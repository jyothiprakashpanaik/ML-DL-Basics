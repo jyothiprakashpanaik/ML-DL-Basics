{
 "cells": [
  {
   "cell_type": "markdown",
   "metadata": {},
   "source": [
    "## Comparing classification Models"
   ]
  },
  {
   "cell_type": "markdown",
   "metadata": {},
   "source": [
    "+ Creat a dummy dataset "
   ]
  },
  {
   "cell_type": "code",
   "execution_count": 2,
   "metadata": {},
   "outputs": [],
   "source": [
    "from sklearn.datasets import make_classification"
   ]
  },
  {
   "cell_type": "code",
   "execution_count": 7,
   "metadata": {},
   "outputs": [],
   "source": [
    "X,y = make_classification(n_samples=1000, n_classes=2, n_features=5, random_state=42)"
   ]
  },
  {
   "cell_type": "code",
   "execution_count": 8,
   "metadata": {},
   "outputs": [
    {
     "data": {
      "text/plain": [
       "(1000, 5)"
      ]
     },
     "execution_count": 8,
     "metadata": {},
     "output_type": "execute_result"
    }
   ],
   "source": [
    "X.shape"
   ]
  },
  {
   "cell_type": "code",
   "execution_count": 5,
   "metadata": {},
   "outputs": [
    {
     "data": {
      "text/plain": [
       "(1000,)"
      ]
     },
     "execution_count": 5,
     "metadata": {},
     "output_type": "execute_result"
    }
   ],
   "source": [
    "y.shape"
   ]
  },
  {
   "cell_type": "markdown",
   "metadata": {},
   "source": [
    "+ Split the data 8:2"
   ]
  },
  {
   "cell_type": "code",
   "execution_count": 9,
   "metadata": {},
   "outputs": [],
   "source": [
    "from sklearn.model_selection import train_test_split\n",
    "Xtrain,Xtest,ytrain,ytest = train_test_split(X,y,test_size=0.2,random_state=42)"
   ]
  },
  {
   "cell_type": "code",
   "execution_count": 11,
   "metadata": {},
   "outputs": [
    {
     "data": {
      "text/plain": [
       "((800, 5), (800,))"
      ]
     },
     "execution_count": 11,
     "metadata": {},
     "output_type": "execute_result"
    }
   ],
   "source": [
    "Xtrain.shape,ytrain.shape"
   ]
  },
  {
   "cell_type": "code",
   "execution_count": 12,
   "metadata": {},
   "outputs": [
    {
     "data": {
      "text/plain": [
       "((200, 5), (200,))"
      ]
     },
     "execution_count": 12,
     "metadata": {},
     "output_type": "execute_result"
    }
   ],
   "source": [
    "Xtest.shape,ytest.shape"
   ]
  },
  {
   "cell_type": "markdown",
   "metadata": {},
   "source": [
    "+ importing models"
   ]
  },
  {
   "cell_type": "code",
   "execution_count": 13,
   "metadata": {},
   "outputs": [],
   "source": [
    "import pandas as pd\n",
    "\n",
    "from sklearn.neural_network import MLPClassifier\n",
    "from sklearn.neighbors import KNeighborsClassifier\n",
    "from sklearn.svm import SVC\n",
    "from sklearn.gaussian_process import GaussianProcessClassifier\n",
    "from sklearn.ensemble import GradientBoostingClassifier\n",
    "from sklearn.gaussian_process.kernels import RBF\n",
    "from sklearn.tree import DecisionTreeClassifier\n",
    "from sklearn.ensemble import ExtraTreesClassifier\n",
    "from sklearn.ensemble import RandomForestClassifier, AdaBoostClassifier\n",
    "from sklearn.naive_bayes import GaussianNB\n",
    "from sklearn.discriminant_analysis import QuadraticDiscriminantAnalysis\n",
    "from sklearn.linear_model import SGDClassifier"
   ]
  },
  {
   "cell_type": "code",
   "execution_count": 14,
   "metadata": {},
   "outputs": [],
   "source": [
    "\n",
    "names = [\"Nearest_Neighbors\", \"Linear_SVM\", \"Polynomial_SVM\", \"RBF_SVM\", \"Gaussian_Process\",\n",
    "         \"Gradient_Boosting\", \"Decision_Tree\", \"Extra_Trees\", \"Random_Forest\", \"Neural_Net\", \"AdaBoost\",\n",
    "         \"Naive_Bayes\", \"QDA\", \"SGD\"]"
   ]
  },
  {
   "cell_type": "code",
   "execution_count": 15,
   "metadata": {},
   "outputs": [],
   "source": [
    "classifiers = [\n",
    "    KNeighborsClassifier(3),\n",
    "    SVC(kernel=\"linear\", C=0.025),\n",
    "    SVC(kernel=\"poly\", degree=3, C=0.025),\n",
    "    SVC(kernel=\"rbf\", C=1, gamma=2),\n",
    "    GaussianProcessClassifier(1.0 * RBF(1.0)),\n",
    "    GradientBoostingClassifier(n_estimators=100, learning_rate=1.0),\n",
    "    DecisionTreeClassifier(max_depth=5),\n",
    "    ExtraTreesClassifier(n_estimators=10, min_samples_split=2),\n",
    "    RandomForestClassifier(max_depth=5, n_estimators=100),\n",
    "    MLPClassifier(alpha=1, max_iter=1000),\n",
    "    AdaBoostClassifier(n_estimators=100),\n",
    "    GaussianNB(),\n",
    "    QuadraticDiscriminantAnalysis(),\n",
    "    SGDClassifier(loss=\"hinge\", penalty=\"l2\")]"
   ]
  },
  {
   "cell_type": "markdown",
   "metadata": {},
   "source": [
    "+ bulding the model and apply model"
   ]
  },
  {
   "cell_type": "code",
   "execution_count": 17,
   "metadata": {},
   "outputs": [
    {
     "name": "stderr",
     "output_type": "stream",
     "text": [
      "e:\\programlang\\python\\lib\\site-packages\\sklearn\\discriminant_analysis.py:715: UserWarning: Variables are collinear\n",
      "  warnings.warn(\"Variables are collinear\")\n"
     ]
    }
   ],
   "source": [
    "scores = []\n",
    "for name, clf in zip(names, classifiers):\n",
    "    clf.fit(Xtrain, ytrain)\n",
    "    score = clf.score(Xtest, ytest)\n",
    "    scores.append(score)"
   ]
  },
  {
   "cell_type": "code",
   "execution_count": 18,
   "metadata": {},
   "outputs": [
    {
     "data": {
      "text/plain": [
       "[0.875,\n",
       " 0.885,\n",
       " 0.8,\n",
       " 0.87,\n",
       " 0.9,\n",
       " 0.855,\n",
       " 0.915,\n",
       " 0.88,\n",
       " 0.925,\n",
       " 0.905,\n",
       " 0.875,\n",
       " 0.86,\n",
       " 0.815,\n",
       " 0.84]"
      ]
     },
     "execution_count": 18,
     "metadata": {},
     "output_type": "execute_result"
    }
   ],
   "source": [
    "scores"
   ]
  },
  {
   "cell_type": "code",
   "execution_count": 21,
   "metadata": {},
   "outputs": [
    {
     "data": {
      "text/plain": [
       "{'Nearest_Neighbors': 0.875,\n",
       " 'Linear_SVM': 0.885,\n",
       " 'Polynomial_SVM': 0.8,\n",
       " 'RBF_SVM': 0.87,\n",
       " 'Gaussian_Process': 0.9,\n",
       " 'Gradient_Boosting': 0.855,\n",
       " 'Decision_Tree': 0.915,\n",
       " 'Extra_Trees': 0.88,\n",
       " 'Random_Forest': 0.925,\n",
       " 'Neural_Net': 0.905,\n",
       " 'AdaBoost': 0.875,\n",
       " 'Naive_Bayes': 0.86,\n",
       " 'QDA': 0.815,\n",
       " 'SGD': 0.84}"
      ]
     },
     "execution_count": 21,
     "metadata": {},
     "output_type": "execute_result"
    }
   ],
   "source": [
    "dict(zip(names,scores))"
   ]
  },
  {
   "cell_type": "markdown",
   "metadata": {},
   "source": [
    "+ analysing model performence"
   ]
  },
  {
   "cell_type": "code",
   "execution_count": 22,
   "metadata": {},
   "outputs": [],
   "source": [
    "import pandas as pd\n",
    "import seaborn as sns"
   ]
  },
  {
   "cell_type": "code",
   "execution_count": 23,
   "metadata": {},
   "outputs": [
    {
     "data": {
      "text/html": [
       "<div>\n",
       "<style scoped>\n",
       "    .dataframe tbody tr th:only-of-type {\n",
       "        vertical-align: middle;\n",
       "    }\n",
       "\n",
       "    .dataframe tbody tr th {\n",
       "        vertical-align: top;\n",
       "    }\n",
       "\n",
       "    .dataframe thead th {\n",
       "        text-align: right;\n",
       "    }\n",
       "</style>\n",
       "<table border=\"1\" class=\"dataframe\">\n",
       "  <thead>\n",
       "    <tr style=\"text-align: right;\">\n",
       "      <th></th>\n",
       "      <th>name</th>\n",
       "      <th>score</th>\n",
       "    </tr>\n",
       "  </thead>\n",
       "  <tbody>\n",
       "    <tr>\n",
       "      <th>0</th>\n",
       "      <td>Nearest_Neighbors</td>\n",
       "      <td>0.875</td>\n",
       "    </tr>\n",
       "    <tr>\n",
       "      <th>1</th>\n",
       "      <td>Linear_SVM</td>\n",
       "      <td>0.885</td>\n",
       "    </tr>\n",
       "    <tr>\n",
       "      <th>2</th>\n",
       "      <td>Polynomial_SVM</td>\n",
       "      <td>0.800</td>\n",
       "    </tr>\n",
       "    <tr>\n",
       "      <th>3</th>\n",
       "      <td>RBF_SVM</td>\n",
       "      <td>0.870</td>\n",
       "    </tr>\n",
       "    <tr>\n",
       "      <th>4</th>\n",
       "      <td>Gaussian_Process</td>\n",
       "      <td>0.900</td>\n",
       "    </tr>\n",
       "    <tr>\n",
       "      <th>5</th>\n",
       "      <td>Gradient_Boosting</td>\n",
       "      <td>0.855</td>\n",
       "    </tr>\n",
       "    <tr>\n",
       "      <th>6</th>\n",
       "      <td>Decision_Tree</td>\n",
       "      <td>0.915</td>\n",
       "    </tr>\n",
       "    <tr>\n",
       "      <th>7</th>\n",
       "      <td>Extra_Trees</td>\n",
       "      <td>0.880</td>\n",
       "    </tr>\n",
       "    <tr>\n",
       "      <th>8</th>\n",
       "      <td>Random_Forest</td>\n",
       "      <td>0.925</td>\n",
       "    </tr>\n",
       "    <tr>\n",
       "      <th>9</th>\n",
       "      <td>Neural_Net</td>\n",
       "      <td>0.905</td>\n",
       "    </tr>\n",
       "    <tr>\n",
       "      <th>10</th>\n",
       "      <td>AdaBoost</td>\n",
       "      <td>0.875</td>\n",
       "    </tr>\n",
       "    <tr>\n",
       "      <th>11</th>\n",
       "      <td>Naive_Bayes</td>\n",
       "      <td>0.860</td>\n",
       "    </tr>\n",
       "    <tr>\n",
       "      <th>12</th>\n",
       "      <td>QDA</td>\n",
       "      <td>0.815</td>\n",
       "    </tr>\n",
       "    <tr>\n",
       "      <th>13</th>\n",
       "      <td>SGD</td>\n",
       "      <td>0.840</td>\n",
       "    </tr>\n",
       "  </tbody>\n",
       "</table>\n",
       "</div>"
      ],
      "text/plain": [
       "                 name  score\n",
       "0   Nearest_Neighbors  0.875\n",
       "1          Linear_SVM  0.885\n",
       "2      Polynomial_SVM  0.800\n",
       "3             RBF_SVM  0.870\n",
       "4    Gaussian_Process  0.900\n",
       "5   Gradient_Boosting  0.855\n",
       "6       Decision_Tree  0.915\n",
       "7         Extra_Trees  0.880\n",
       "8       Random_Forest  0.925\n",
       "9          Neural_Net  0.905\n",
       "10           AdaBoost  0.875\n",
       "11        Naive_Bayes  0.860\n",
       "12                QDA  0.815\n",
       "13                SGD  0.840"
      ]
     },
     "execution_count": 23,
     "metadata": {},
     "output_type": "execute_result"
    }
   ],
   "source": [
    "df = pd.DataFrame()\n",
    "df['name'] = names\n",
    "df['score'] = scores\n",
    "df"
   ]
  },
  {
   "cell_type": "code",
   "execution_count": 24,
   "metadata": {},
   "outputs": [
    {
     "data": {
      "text/html": [
       "<style  type=\"text/css\" >\n",
       "#T_1cd6a7da_194a_11eb_9547_98e7432bcbe3row0_col1,#T_1cd6a7da_194a_11eb_9547_98e7432bcbe3row10_col1{\n",
       "            background-color:  #5eae5e;\n",
       "            color:  #000000;\n",
       "        }#T_1cd6a7da_194a_11eb_9547_98e7432bcbe3row1_col1{\n",
       "            background-color:  #4ba54a;\n",
       "            color:  #000000;\n",
       "        }#T_1cd6a7da_194a_11eb_9547_98e7432bcbe3row2_col1{\n",
       "            background-color:  #ebf3eb;\n",
       "            color:  #000000;\n",
       "        }#T_1cd6a7da_194a_11eb_9547_98e7432bcbe3row3_col1{\n",
       "            background-color:  #67b267;\n",
       "            color:  #000000;\n",
       "        }#T_1cd6a7da_194a_11eb_9547_98e7432bcbe3row4_col1{\n",
       "            background-color:  #2f972f;\n",
       "            color:  #000000;\n",
       "        }#T_1cd6a7da_194a_11eb_9547_98e7432bcbe3row5_col1{\n",
       "            background-color:  #84c084;\n",
       "            color:  #000000;\n",
       "        }#T_1cd6a7da_194a_11eb_9547_98e7432bcbe3row6_col1{\n",
       "            background-color:  #128912;\n",
       "            color:  #f1f1f1;\n",
       "        }#T_1cd6a7da_194a_11eb_9547_98e7432bcbe3row7_col1{\n",
       "            background-color:  #55a955;\n",
       "            color:  #000000;\n",
       "        }#T_1cd6a7da_194a_11eb_9547_98e7432bcbe3row8_col1{\n",
       "            background-color:  #008000;\n",
       "            color:  #f1f1f1;\n",
       "        }#T_1cd6a7da_194a_11eb_9547_98e7432bcbe3row9_col1{\n",
       "            background-color:  #259225;\n",
       "            color:  #000000;\n",
       "        }#T_1cd6a7da_194a_11eb_9547_98e7432bcbe3row11_col1{\n",
       "            background-color:  #7abc7a;\n",
       "            color:  #000000;\n",
       "        }#T_1cd6a7da_194a_11eb_9547_98e7432bcbe3row12_col1{\n",
       "            background-color:  #cfe5cf;\n",
       "            color:  #000000;\n",
       "        }#T_1cd6a7da_194a_11eb_9547_98e7432bcbe3row13_col1{\n",
       "            background-color:  #a0cea0;\n",
       "            color:  #000000;\n",
       "        }</style><table id=\"T_1cd6a7da_194a_11eb_9547_98e7432bcbe3\" ><thead>    <tr>        <th class=\"blank level0\" ></th>        <th class=\"col_heading level0 col0\" >name</th>        <th class=\"col_heading level0 col1\" >score</th>    </tr></thead><tbody>\n",
       "                <tr>\n",
       "                        <th id=\"T_1cd6a7da_194a_11eb_9547_98e7432bcbe3level0_row0\" class=\"row_heading level0 row0\" >0</th>\n",
       "                        <td id=\"T_1cd6a7da_194a_11eb_9547_98e7432bcbe3row0_col0\" class=\"data row0 col0\" >Nearest_Neighbors</td>\n",
       "                        <td id=\"T_1cd6a7da_194a_11eb_9547_98e7432bcbe3row0_col1\" class=\"data row0 col1\" >0.875000</td>\n",
       "            </tr>\n",
       "            <tr>\n",
       "                        <th id=\"T_1cd6a7da_194a_11eb_9547_98e7432bcbe3level0_row1\" class=\"row_heading level0 row1\" >1</th>\n",
       "                        <td id=\"T_1cd6a7da_194a_11eb_9547_98e7432bcbe3row1_col0\" class=\"data row1 col0\" >Linear_SVM</td>\n",
       "                        <td id=\"T_1cd6a7da_194a_11eb_9547_98e7432bcbe3row1_col1\" class=\"data row1 col1\" >0.885000</td>\n",
       "            </tr>\n",
       "            <tr>\n",
       "                        <th id=\"T_1cd6a7da_194a_11eb_9547_98e7432bcbe3level0_row2\" class=\"row_heading level0 row2\" >2</th>\n",
       "                        <td id=\"T_1cd6a7da_194a_11eb_9547_98e7432bcbe3row2_col0\" class=\"data row2 col0\" >Polynomial_SVM</td>\n",
       "                        <td id=\"T_1cd6a7da_194a_11eb_9547_98e7432bcbe3row2_col1\" class=\"data row2 col1\" >0.800000</td>\n",
       "            </tr>\n",
       "            <tr>\n",
       "                        <th id=\"T_1cd6a7da_194a_11eb_9547_98e7432bcbe3level0_row3\" class=\"row_heading level0 row3\" >3</th>\n",
       "                        <td id=\"T_1cd6a7da_194a_11eb_9547_98e7432bcbe3row3_col0\" class=\"data row3 col0\" >RBF_SVM</td>\n",
       "                        <td id=\"T_1cd6a7da_194a_11eb_9547_98e7432bcbe3row3_col1\" class=\"data row3 col1\" >0.870000</td>\n",
       "            </tr>\n",
       "            <tr>\n",
       "                        <th id=\"T_1cd6a7da_194a_11eb_9547_98e7432bcbe3level0_row4\" class=\"row_heading level0 row4\" >4</th>\n",
       "                        <td id=\"T_1cd6a7da_194a_11eb_9547_98e7432bcbe3row4_col0\" class=\"data row4 col0\" >Gaussian_Process</td>\n",
       "                        <td id=\"T_1cd6a7da_194a_11eb_9547_98e7432bcbe3row4_col1\" class=\"data row4 col1\" >0.900000</td>\n",
       "            </tr>\n",
       "            <tr>\n",
       "                        <th id=\"T_1cd6a7da_194a_11eb_9547_98e7432bcbe3level0_row5\" class=\"row_heading level0 row5\" >5</th>\n",
       "                        <td id=\"T_1cd6a7da_194a_11eb_9547_98e7432bcbe3row5_col0\" class=\"data row5 col0\" >Gradient_Boosting</td>\n",
       "                        <td id=\"T_1cd6a7da_194a_11eb_9547_98e7432bcbe3row5_col1\" class=\"data row5 col1\" >0.855000</td>\n",
       "            </tr>\n",
       "            <tr>\n",
       "                        <th id=\"T_1cd6a7da_194a_11eb_9547_98e7432bcbe3level0_row6\" class=\"row_heading level0 row6\" >6</th>\n",
       "                        <td id=\"T_1cd6a7da_194a_11eb_9547_98e7432bcbe3row6_col0\" class=\"data row6 col0\" >Decision_Tree</td>\n",
       "                        <td id=\"T_1cd6a7da_194a_11eb_9547_98e7432bcbe3row6_col1\" class=\"data row6 col1\" >0.915000</td>\n",
       "            </tr>\n",
       "            <tr>\n",
       "                        <th id=\"T_1cd6a7da_194a_11eb_9547_98e7432bcbe3level0_row7\" class=\"row_heading level0 row7\" >7</th>\n",
       "                        <td id=\"T_1cd6a7da_194a_11eb_9547_98e7432bcbe3row7_col0\" class=\"data row7 col0\" >Extra_Trees</td>\n",
       "                        <td id=\"T_1cd6a7da_194a_11eb_9547_98e7432bcbe3row7_col1\" class=\"data row7 col1\" >0.880000</td>\n",
       "            </tr>\n",
       "            <tr>\n",
       "                        <th id=\"T_1cd6a7da_194a_11eb_9547_98e7432bcbe3level0_row8\" class=\"row_heading level0 row8\" >8</th>\n",
       "                        <td id=\"T_1cd6a7da_194a_11eb_9547_98e7432bcbe3row8_col0\" class=\"data row8 col0\" >Random_Forest</td>\n",
       "                        <td id=\"T_1cd6a7da_194a_11eb_9547_98e7432bcbe3row8_col1\" class=\"data row8 col1\" >0.925000</td>\n",
       "            </tr>\n",
       "            <tr>\n",
       "                        <th id=\"T_1cd6a7da_194a_11eb_9547_98e7432bcbe3level0_row9\" class=\"row_heading level0 row9\" >9</th>\n",
       "                        <td id=\"T_1cd6a7da_194a_11eb_9547_98e7432bcbe3row9_col0\" class=\"data row9 col0\" >Neural_Net</td>\n",
       "                        <td id=\"T_1cd6a7da_194a_11eb_9547_98e7432bcbe3row9_col1\" class=\"data row9 col1\" >0.905000</td>\n",
       "            </tr>\n",
       "            <tr>\n",
       "                        <th id=\"T_1cd6a7da_194a_11eb_9547_98e7432bcbe3level0_row10\" class=\"row_heading level0 row10\" >10</th>\n",
       "                        <td id=\"T_1cd6a7da_194a_11eb_9547_98e7432bcbe3row10_col0\" class=\"data row10 col0\" >AdaBoost</td>\n",
       "                        <td id=\"T_1cd6a7da_194a_11eb_9547_98e7432bcbe3row10_col1\" class=\"data row10 col1\" >0.875000</td>\n",
       "            </tr>\n",
       "            <tr>\n",
       "                        <th id=\"T_1cd6a7da_194a_11eb_9547_98e7432bcbe3level0_row11\" class=\"row_heading level0 row11\" >11</th>\n",
       "                        <td id=\"T_1cd6a7da_194a_11eb_9547_98e7432bcbe3row11_col0\" class=\"data row11 col0\" >Naive_Bayes</td>\n",
       "                        <td id=\"T_1cd6a7da_194a_11eb_9547_98e7432bcbe3row11_col1\" class=\"data row11 col1\" >0.860000</td>\n",
       "            </tr>\n",
       "            <tr>\n",
       "                        <th id=\"T_1cd6a7da_194a_11eb_9547_98e7432bcbe3level0_row12\" class=\"row_heading level0 row12\" >12</th>\n",
       "                        <td id=\"T_1cd6a7da_194a_11eb_9547_98e7432bcbe3row12_col0\" class=\"data row12 col0\" >QDA</td>\n",
       "                        <td id=\"T_1cd6a7da_194a_11eb_9547_98e7432bcbe3row12_col1\" class=\"data row12 col1\" >0.815000</td>\n",
       "            </tr>\n",
       "            <tr>\n",
       "                        <th id=\"T_1cd6a7da_194a_11eb_9547_98e7432bcbe3level0_row13\" class=\"row_heading level0 row13\" >13</th>\n",
       "                        <td id=\"T_1cd6a7da_194a_11eb_9547_98e7432bcbe3row13_col0\" class=\"data row13 col0\" >SGD</td>\n",
       "                        <td id=\"T_1cd6a7da_194a_11eb_9547_98e7432bcbe3row13_col1\" class=\"data row13 col1\" >0.840000</td>\n",
       "            </tr>\n",
       "    </tbody></table>"
      ],
      "text/plain": [
       "<pandas.io.formats.style.Styler at 0x284fa85bca0>"
      ]
     },
     "execution_count": 24,
     "metadata": {},
     "output_type": "execute_result"
    }
   ],
   "source": [
    "cm = sns.light_palette(\"green\", as_cmap=True)\n",
    "s = df.style.background_gradient(cmap=cm)\n",
    "s"
   ]
  },
  {
   "cell_type": "code",
   "execution_count": 28,
   "metadata": {},
   "outputs": [
    {
     "data": {
      "image/png": "[encoded data removed]",
      "text/plain": [
       "<Figure size 720x432 with 1 Axes>"
      ]
     },
     "metadata": {
      "needs_background": "light"
     },
     "output_type": "display_data"
    }
   ],
   "source": [
    "import matplotlib.pyplot as plt\n",
    "\n",
    "plt.figure(figsize=(10,6))\n",
    "# make barplot and sort bars in descending order\n",
    "sns.barplot(x='name', \n",
    "            y=\"score\", \n",
    "            data=df, \n",
    "            order=df.sort_values('score',ascending = False).name)\n",
    "# set labels\n",
    "plt.xlabel(\"Models\", size=15)\n",
    "plt.ylabel(\"Score\", size=15)\n",
    "plt.title(\"Comparing model\", size=18)\n",
    "plt.tight_layout()"
   ]
  },
  {
   "cell_type": "code",
   "execution_count": null,
   "metadata": {},
   "outputs": [],
   "source": []
  }
 ],
 "metadata": {
  "kernelspec": {
   "display_name": "Python 3",
   "language": "python",
   "name": "python3"
  },
  "language_info": {
   "codemirror_mode": {
    "name": "ipython",
    "version": 3
   },
   "file_extension": ".py",
   "mimetype": "text/x-python",
   "name": "python",
   "nbconvert_exporter": "python",
   "pygments_lexer": "ipython3",
   "version": "3.8.5"
  }
 },
 "nbformat": 4,
 "nbformat_minor": 4
}
